{
 "cells": [
  {
   "cell_type": "code",
   "execution_count": 51,
   "metadata": {},
   "outputs": [
    {
     "name": "stdout",
     "output_type": "stream",
     "text": [
      "+---------+---------+--------+---------+\n",
      "|   index | stock   |   name |   price |\n",
      "+=========+=========+========+=========+\n",
      "|       0 | Apel    |     20 |   10000 |\n",
      "+---------+---------+--------+---------+\n",
      "|       0 | Jeruk   |     15 |   15000 |\n",
      "+---------+---------+--------+---------+\n",
      "|       0 | Anggur  |     25 |   20000 |\n",
      "+---------+---------+--------+---------+\n"
     ]
    }
   ],
   "source": [
    "from tabulate import tabulate\n",
    "\n",
    "daftarBuah = [\n",
    "    [0,'Apel', 20,10000],\n",
    "    [0,'Jeruk', 15,15000],\n",
    "    [0,'Anggur', 25,20000]\n",
    "]\n",
    "print(tabulate(daftarBuah,\n",
    "                   headers=['index', 'stock', 'name','price'],\n",
    "                   tablefmt='grid'))"
   ]
  },
  {
   "cell_type": "code",
   "execution_count": 52,
   "metadata": {},
   "outputs": [
    {
     "name": "stdout",
     "output_type": "stream",
     "text": [
      "Yang anda inputkan bukan bilangan\n"
     ]
    },
    {
     "data": {
      "text/plain": [
       "1"
      ]
     },
     "execution_count": 52,
     "metadata": {},
     "output_type": "execute_result"
    }
   ],
   "source": [
    "def interger_validation():\n",
    "    while True:\n",
    "        a=input('Silahkan masukkan angka: ')\n",
    "        try:\n",
    "            a = int(a)\n",
    "            break\n",
    "        except:\n",
    "            print('Yang anda inputkan bukan bilangan')\n",
    "    return a\n",
    "\n",
    "interger_validation()"
   ]
  },
  {
   "cell_type": "code",
   "execution_count": 53,
   "metadata": {},
   "outputs": [
    {
     "data": {
      "text/plain": [
       "'Apel'"
      ]
     },
     "execution_count": 53,
     "metadata": {},
     "output_type": "execute_result"
    }
   ],
   "source": [
    "def string_validation(title):\n",
    "    while True:\n",
    "        a=input(title)\n",
    "        if a.isalpha() ==True:\n",
    "                break\n",
    "        else:\n",
    "                print('Silahkan inputkan hanya teks')\n",
    "    return a.capitalize()\n",
    "    \n",
    "\n",
    "string_validation('Silahkan masukan nama buah')"
   ]
  },
  {
   "cell_type": "code",
   "execution_count": 54,
   "metadata": {},
   "outputs": [
    {
     "ename": "NameError",
     "evalue": "name 'database' is not defined",
     "output_type": "error",
     "traceback": [
      "\u001b[1;31m---------------------------------------------------------------------------\u001b[0m",
      "\u001b[1;31mNameError\u001b[0m                                 Traceback (most recent call last)",
      "Cell \u001b[1;32mIn[54], line 5\u001b[0m\n\u001b[0;32m      2\u001b[0m stock \u001b[38;5;241m=\u001b[39m \u001b[38;5;241m10\u001b[39m\n\u001b[0;32m      3\u001b[0m price \u001b[38;5;241m=\u001b[39m \u001b[38;5;241m12000\u001b[39m\n\u001b[1;32m----> 5\u001b[0m \u001b[38;5;28;01mfor\u001b[39;00m key, buah \u001b[38;5;129;01min\u001b[39;00m database\u001b[38;5;241m.\u001b[39mcopy()\u001b[38;5;241m.\u001b[39mitems():\n\u001b[0;32m      6\u001b[0m     \u001b[38;5;28;01mif\u001b[39;00m name \u001b[38;5;129;01min\u001b[39;00m buah:\n\u001b[0;32m      7\u001b[0m         database[key] \u001b[38;5;241m=\u001b[39m [buah[\u001b[38;5;241m0\u001b[39m]]\n",
      "\u001b[1;31mNameError\u001b[0m: name 'database' is not defined"
     ]
    }
   ],
   "source": [
    "name = 'nanas'\n",
    "stock = 10\n",
    "price = 12000\n",
    "\n",
    "for key, buah in database.copy().items():\n",
    "    if name in buah:\n",
    "        database[key] = [buah[0]]"
   ]
  },
  {
   "cell_type": "code",
   "execution_count": null,
   "metadata": {},
   "outputs": [
    {
     "name": "stdout",
     "output_type": "stream",
     "text": [
      "     March 2002\n",
      "Mo Tu We Th Fr Sa Su\n",
      "             1  2  3\n",
      " 4  5  6  7  8  9 10\n",
      "11 12 13 14 15 16 17\n",
      "18 19 20 21 22 23 24\n",
      "25 26 27 28 29 30 31\n",
      "\n"
     ]
    }
   ],
   "source": [
    "import calendar\n",
    "\n",
    "yy=int(input(\"Masukan tahun:\"))\n",
    "mm = int(input(\"Masukan bulan(dalam angka):\"))\n",
    "\n",
    "print(calendar.month(yy,mm))"
   ]
  },
  {
   "cell_type": "code",
   "execution_count": 61,
   "metadata": {},
   "outputs": [
    {
     "name": "stdout",
     "output_type": "stream",
     "text": [
      "Selamat datang di indonesi\n"
     ]
    }
   ],
   "source": [
    "kalimat = 'Selamat datang di indonesia'\n",
    "\n",
    "print(kalimat[:-1])"
   ]
  }
 ],
 "metadata": {
  "kernelspec": {
   "display_name": "base",
   "language": "python",
   "name": "python3"
  },
  "language_info": {
   "codemirror_mode": {
    "name": "ipython",
    "version": 3
   },
   "file_extension": ".py",
   "mimetype": "text/x-python",
   "name": "python",
   "nbconvert_exporter": "python",
   "pygments_lexer": "ipython3",
   "version": "3.11.7"
  }
 },
 "nbformat": 4,
 "nbformat_minor": 2
}
